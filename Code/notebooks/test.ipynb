{
  "cells": [
    {
      "cell_type": "code",
      "execution_count": 6,
      "metadata": {
        "pycharm": {
          "is_executing": false
        }
      },
      "outputs": [],
      "source": [
        "import numpy as np\n",
        "from bokeh.plotting import figure, show\n",
        "from bokeh.io import output_notebook\n",
        "from NearestNeighbors.DelayVectorDB import DelayVectorDB\n",
        "from NearestNeighbors.data_manipulation import data_read_dat\n",
        "from sklearn.neighbors.regression import RadiusNeighborsRegressor\n",
        "from NearestNeighbors.NearestNeighbors import NearestNeighbors\n",
        "from NearestNeighbors.metrics import mape\n",
        "from NearestNeighbors.aux_forecast import last_vector"
      ]
    },
    {
      "cell_type": "code",
      "execution_count": 8,
      "metadata": {
        "pycharm": {
          "is_executing": false
        }
      },
      "outputs": [],
      "source": [
        "timeseries \u003d data_read_dat(\u0027/Users/rafa/TimeSeries/DataSets/synthetic/mackey.dat\u0027)\n",
        "validation_set \u003d timeseries[-50:]"
      ]
    },
    {
      "cell_type": "code",
      "execution_count": 9,
      "metadata": {
        "pycharm": {
          "is_executing": false
        }
      },
      "outputs": [
        {
          "name": "stdout",
          "text": [
            "0.14031359978417354\n"
          ],
          "output_type": "stream"
        }
      ],
      "source": [
        "m \u003d 51\n",
        "tau \u003d 23\n",
        "eps \u003d 0.033\n",
        "forecast \u003d list()\n",
        "num_forecast \u003d 50\n",
        "for i in range(num_forecast + 1, 1, -1):\n",
        "    timeseries_train \u003d timeseries[:-i]\n",
        "    db_ts \u003d DelayVectorDB(timeseries_train, m, tau)\n",
        "    X, y \u003d db_ts.get_vectors()\n",
        "    #nn \u003d RadiusNeighborsRegressor(eps, algorithm\u003d\u0027brute\u0027)\n",
        "    nn \u003d NearestNeighbors(epsilon\u003deps)\n",
        "    nn.fit(X, y)\n",
        "    new_vector \u003d last_vector(timeseries[:-(i - 1)], [m,], [tau,])\n",
        "    #new_vector \u003d np.vstack((new_vector, new_vector))\n",
        "    forecast.append(nn.predict(new_vector))#.flatten()[0])\n",
        "forecast \u003d np.array(forecast)\n",
        "print(mape(validation_set, forecast))"
      ]
    },
    {
      "cell_type": "code",
      "execution_count": 10,
      "metadata": {
        "pycharm": {
          "is_executing": false
        }
      },
      "outputs": [
        {
          "data": {
            "text/plain": "array([0.89045281, 0.89385144, 0.89713873, 0.90031576, 0.90338366,\n       0.90634359, 0.90919675, 0.91194434, 0.91458757, 0.91712771,\n       0.91956601, 0.92190374, 0.9241422 , 0.92628268, 0.92832647,\n       0.93027489, 0.93212923, 0.93389082, 0.93556097, 0.937141  ,\n       0.93863221, 0.94003591, 0.94135343, 0.94258605, 0.94373509,\n       0.94480183, 0.94578758, 0.94669361, 0.94752121, 0.94827164,\n       0.94894617, 0.94954606, 0.95007256, 0.95052692, 0.95091036,\n       0.95122412, 0.95146942, 0.95164747, 0.95175948, 0.95180664,\n       0.95179014, 0.95171117, 0.95157091, 0.95137052, 0.95111118,\n       0.95079403, 0.95042024, 0.94999095, 0.94950731, 0.94897045])"
          },
          "metadata": {},
          "output_type": "execute_result",
          "execution_count": 10
        }
      ],
      "source": [
        "#0.03592456489344177\n",
        "np.array(forecast)"
      ]
    },
    {
      "cell_type": "code",
      "execution_count": 11,
      "metadata": {
        "pycharm": {
          "is_executing": false
        }
      },
      "outputs": [
        {
          "data": {
            "text/plain": "array([0.89385144, 0.89713873, 0.90031576, 0.90338366, 0.90634359,\n       0.90919675, 0.91194434, 0.91458757, 0.91712771, 0.91956601,\n       0.92190374, 0.9241422 , 0.92628268, 0.92832647, 0.93027489,\n       0.93212923, 0.93389082, 0.93556097, 0.937141  , 0.93863221,\n       0.94003591, 0.94135343, 0.94258605, 0.94373509, 0.94480183,\n       0.94578758, 0.94669361, 0.94752121, 0.94827164, 0.94894617,\n       0.94954606, 0.95007256, 0.95052692, 0.95091036, 0.95122412,\n       0.95146942, 0.95164747, 0.95175948, 0.95180664, 0.95179014,\n       0.95171117, 0.95157091, 0.95137052, 0.95111118, 0.95079403,\n       0.95042024, 0.94999095, 0.94950731, 0.94897045, 0.94838152])"
          },
          "metadata": {},
          "output_type": "execute_result",
          "execution_count": 11
        }
      ],
      "source": [
        "validation_set"
      ]
    },
    {
      "cell_type": "code",
      "execution_count": 12,
      "metadata": {
        "pycharm": {
          "is_executing": false
        }
      },
      "outputs": [
        {
          "data": {
            "text/html": "\n    \u003cdiv class\u003d\"bk-root\"\u003e\n        \u003ca href\u003d\"https://bokeh.pydata.org\" target\u003d\"_blank\" class\u003d\"bk-logo bk-logo-small bk-logo-notebook\"\u003e\u003c/a\u003e\n        \u003cspan id\u003d\"1001\"\u003eLoading BokehJS ...\u003c/span\u003e\n    \u003c/div\u003e"
          },
          "metadata": {},
          "output_type": "display_data"
        },
        {
          "data": {
            "application/javascript": "\n(function(root) {\n  function now() {\n    return new Date();\n  }\n\n  var force \u003d true;\n\n  if (typeof (root._bokeh_onload_callbacks) \u003d\u003d\u003d \"undefined\" || force \u003d\u003d\u003d true) {\n    root._bokeh_onload_callbacks \u003d [];\n    root._bokeh_is_loading \u003d undefined;\n  }\n\n  var JS_MIME_TYPE \u003d \u0027application/javascript\u0027;\n  var HTML_MIME_TYPE \u003d \u0027text/html\u0027;\n  var EXEC_MIME_TYPE \u003d \u0027application/vnd.bokehjs_exec.v0+json\u0027;\n  var CLASS_NAME \u003d \u0027output_bokeh rendered_html\u0027;\n\n  /**\n   * Render data to the DOM node\n   */\n  function render(props, node) {\n    var script \u003d document.createElement(\"script\");\n    node.appendChild(script);\n  }\n\n  /**\n   * Handle when an output is cleared or removed\n   */\n  function handleClearOutput(event, handle) {\n    var cell \u003d handle.cell;\n\n    var id \u003d cell.output_area._bokeh_element_id;\n    var server_id \u003d cell.output_area._bokeh_server_id;\n    // Clean up Bokeh references\n    if (id !\u003d null \u0026\u0026 id in Bokeh.index) {\n      Bokeh.index[id].model.document.clear();\n      delete Bokeh.index[id];\n    }\n\n    if (server_id !\u003d\u003d undefined) {\n      // Clean up Bokeh references\n      var cmd \u003d \"from bokeh.io.state import curstate; print(curstate().uuid_to_server[\u0027\" + server_id + \"\u0027].get_sessions()[0].document.roots[0]._id)\";\n      cell.notebook.kernel.execute(cmd, {\n        iopub: {\n          output: function(msg) {\n            var id \u003d msg.content.text.trim();\n            if (id in Bokeh.index) {\n              Bokeh.index[id].model.document.clear();\n              delete Bokeh.index[id];\n            }\n          }\n        }\n      });\n      // Destroy server and session\n      var cmd \u003d \"import bokeh.io.notebook as ion; ion.destroy_server(\u0027\" + server_id + \"\u0027)\";\n      cell.notebook.kernel.execute(cmd);\n    }\n  }\n\n  /**\n   * Handle when a new output is added\n   */\n  function handleAddOutput(event, handle) {\n    var output_area \u003d handle.output_area;\n    var output \u003d handle.output;\n\n    // limit handleAddOutput to display_data with EXEC_MIME_TYPE content only\n    if ((output.output_type !\u003d \"display_data\") || (!output.data.hasOwnProperty(EXEC_MIME_TYPE))) {\n      return\n    }\n\n    var toinsert \u003d output_area.element.find(\".\" + CLASS_NAME.split(\u0027 \u0027)[0]);\n\n    if (output.metadata[EXEC_MIME_TYPE][\"id\"] !\u003d\u003d undefined) {\n      toinsert[toinsert.length - 1].firstChild.textContent \u003d output.data[JS_MIME_TYPE];\n      // store reference to embed id on output_area\n      output_area._bokeh_element_id \u003d output.metadata[EXEC_MIME_TYPE][\"id\"];\n    }\n    if (output.metadata[EXEC_MIME_TYPE][\"server_id\"] !\u003d\u003d undefined) {\n      var bk_div \u003d document.createElement(\"div\");\n      bk_div.innerHTML \u003d output.data[HTML_MIME_TYPE];\n      var script_attrs \u003d bk_div.children[0].attributes;\n      for (var i \u003d 0; i \u003c script_attrs.length; i++) {\n        toinsert[toinsert.length - 1].firstChild.setAttribute(script_attrs[i].name, script_attrs[i].value);\n      }\n      // store reference to server id on output_area\n      output_area._bokeh_server_id \u003d output.metadata[EXEC_MIME_TYPE][\"server_id\"];\n    }\n  }\n\n  function register_renderer(events, OutputArea) {\n\n    function append_mime(data, metadata, element) {\n      // create a DOM node to render to\n      var toinsert \u003d this.create_output_subarea(\n        metadata,\n        CLASS_NAME,\n        EXEC_MIME_TYPE\n      );\n      this.keyboard_manager.register_events(toinsert);\n      // Render to node\n      var props \u003d {data: data, metadata: metadata[EXEC_MIME_TYPE]};\n      render(props, toinsert[toinsert.length - 1]);\n      element.append(toinsert);\n      return toinsert\n    }\n\n    /* Handle when an output is cleared or removed */\n    events.on(\u0027clear_output.CodeCell\u0027, handleClearOutput);\n    events.on(\u0027delete.Cell\u0027, handleClearOutput);\n\n    /* Handle when a new output is added */\n    events.on(\u0027output_added.OutputArea\u0027, handleAddOutput);\n\n    /**\n     * Register the mime type and append_mime function with output_area\n     */\n    OutputArea.prototype.register_mime_type(EXEC_MIME_TYPE, append_mime, {\n      /* Is output safe? */\n      safe: true,\n      /* Index of renderer in `output_area.display_order` */\n      index: 0\n    });\n  }\n\n  // register the mime type if in Jupyter Notebook environment and previously unregistered\n  if (root.Jupyter !\u003d\u003d undefined) {\n    var events \u003d require(\u0027base/js/events\u0027);\n    var OutputArea \u003d require(\u0027notebook/js/outputarea\u0027).OutputArea;\n\n    if (OutputArea.prototype.mime_types().indexOf(EXEC_MIME_TYPE) \u003d\u003d -1) {\n      register_renderer(events, OutputArea);\n    }\n  }\n\n  \n  if (typeof (root._bokeh_timeout) \u003d\u003d\u003d \"undefined\" || force \u003d\u003d\u003d true) {\n    root._bokeh_timeout \u003d Date.now() + 5000;\n    root._bokeh_failed_load \u003d false;\n  }\n\n  var NB_LOAD_WARNING \u003d {\u0027data\u0027: {\u0027text/html\u0027:\n     \"\u003cdiv style\u003d\u0027background-color: #fdd\u0027\u003e\\n\"+\n     \"\u003cp\u003e\\n\"+\n     \"BokehJS does not appear to have successfully loaded. If loading BokehJS from CDN, this \\n\"+\n     \"may be due to a slow or bad network connection. Possible fixes:\\n\"+\n     \"\u003c/p\u003e\\n\"+\n     \"\u003cul\u003e\\n\"+\n     \"\u003cli\u003ere-rerun `output_notebook()` to attempt to load from CDN again, or\u003c/li\u003e\\n\"+\n     \"\u003cli\u003euse INLINE resources instead, as so:\u003c/li\u003e\\n\"+\n     \"\u003c/ul\u003e\\n\"+\n     \"\u003ccode\u003e\\n\"+\n     \"from bokeh.resources import INLINE\\n\"+\n     \"output_notebook(resources\u003dINLINE)\\n\"+\n     \"\u003c/code\u003e\\n\"+\n     \"\u003c/div\u003e\"}};\n\n  function display_loaded() {\n    var el \u003d document.getElementById(\"1001\");\n    if (el !\u003d null) {\n      el.textContent \u003d \"BokehJS is loading...\";\n    }\n    if (root.Bokeh !\u003d\u003d undefined) {\n      if (el !\u003d null) {\n        el.textContent \u003d \"BokehJS \" + root.Bokeh.version + \" successfully loaded.\";\n      }\n    } else if (Date.now() \u003c root._bokeh_timeout) {\n      setTimeout(display_loaded, 100)\n    }\n  }\n\n\n  function run_callbacks() {\n    try {\n      root._bokeh_onload_callbacks.forEach(function(callback) { callback() });\n    }\n    finally {\n      delete root._bokeh_onload_callbacks\n    }\n    console.info(\"Bokeh: all callbacks have finished\");\n  }\n\n  function load_libs(js_urls, callback) {\n    root._bokeh_onload_callbacks.push(callback);\n    if (root._bokeh_is_loading \u003e 0) {\n      console.log(\"Bokeh: BokehJS is being loaded, scheduling callback at\", now());\n      return null;\n    }\n    if (js_urls \u003d\u003d null || js_urls.length \u003d\u003d\u003d 0) {\n      run_callbacks();\n      return null;\n    }\n    console.log(\"Bokeh: BokehJS not loaded, scheduling load and callback at\", now());\n    root._bokeh_is_loading \u003d js_urls.length;\n    for (var i \u003d 0; i \u003c js_urls.length; i++) {\n      var url \u003d js_urls[i];\n      var s \u003d document.createElement(\u0027script\u0027);\n      s.src \u003d url;\n      s.async \u003d false;\n      s.onreadystatechange \u003d s.onload \u003d function() {\n        root._bokeh_is_loading--;\n        if (root._bokeh_is_loading \u003d\u003d\u003d 0) {\n          console.log(\"Bokeh: all BokehJS libraries loaded\");\n          run_callbacks()\n        }\n      };\n      s.onerror \u003d function() {\n        console.warn(\"failed to load library \" + url);\n      };\n      console.log(\"Bokeh: injecting script tag for BokehJS library: \", url);\n      document.getElementsByTagName(\"head\")[0].appendChild(s);\n    }\n  };var element \u003d document.getElementById(\"1001\");\n  if (element \u003d\u003d null) {\n    console.log(\"Bokeh: ERROR: autoload.js configured with elementid \u00271001\u0027 but no matching script tag was found. \")\n    return false;\n  }\n\n  var js_urls \u003d [\"https://cdn.pydata.org/bokeh/release/bokeh-1.0.4.min.js\", \"https://cdn.pydata.org/bokeh/release/bokeh-widgets-1.0.4.min.js\", \"https://cdn.pydata.org/bokeh/release/bokeh-tables-1.0.4.min.js\", \"https://cdn.pydata.org/bokeh/release/bokeh-gl-1.0.4.min.js\"];\n\n  var inline_js \u003d [\n    function(Bokeh) {\n      Bokeh.set_log_level(\"info\");\n    },\n    \n    function(Bokeh) {\n      \n    },\n    function(Bokeh) {\n      console.log(\"Bokeh: injecting CSS: https://cdn.pydata.org/bokeh/release/bokeh-1.0.4.min.css\");\n      Bokeh.embed.inject_css(\"https://cdn.pydata.org/bokeh/release/bokeh-1.0.4.min.css\");\n      console.log(\"Bokeh: injecting CSS: https://cdn.pydata.org/bokeh/release/bokeh-widgets-1.0.4.min.css\");\n      Bokeh.embed.inject_css(\"https://cdn.pydata.org/bokeh/release/bokeh-widgets-1.0.4.min.css\");\n      console.log(\"Bokeh: injecting CSS: https://cdn.pydata.org/bokeh/release/bokeh-tables-1.0.4.min.css\");\n      Bokeh.embed.inject_css(\"https://cdn.pydata.org/bokeh/release/bokeh-tables-1.0.4.min.css\");\n    }\n  ];\n\n  function run_inline_js() {\n    \n    if ((root.Bokeh !\u003d\u003d undefined) || (force \u003d\u003d\u003d true)) {\n      for (var i \u003d 0; i \u003c inline_js.length; i++) {\n        inline_js[i].call(root, root.Bokeh);\n      }if (force \u003d\u003d\u003d true) {\n        display_loaded();\n      }} else if (Date.now() \u003c root._bokeh_timeout) {\n      setTimeout(run_inline_js, 100);\n    } else if (!root._bokeh_failed_load) {\n      console.log(\"Bokeh: BokehJS failed to load within specified timeout.\");\n      root._bokeh_failed_load \u003d true;\n    } else if (force !\u003d\u003d true) {\n      var cell \u003d $(document.getElementById(\"1001\")).parents(\u0027.cell\u0027).data().cell;\n      cell.output_area.append_execute_result(NB_LOAD_WARNING)\n    }\n\n  }\n\n  if (root._bokeh_is_loading \u003d\u003d\u003d 0) {\n    console.log(\"Bokeh: BokehJS loaded, going straight to plotting\");\n    run_inline_js();\n  } else {\n    load_libs(js_urls, function() {\n      console.log(\"Bokeh: BokehJS plotting callback run at\", now());\n      run_inline_js();\n    });\n  }\n}(window));",
            "application/vnd.bokehjs_load.v0+json": "\n(function(root) {\n  function now() {\n    return new Date();\n  }\n\n  var force \u003d true;\n\n  if (typeof (root._bokeh_onload_callbacks) \u003d\u003d\u003d \"undefined\" || force \u003d\u003d\u003d true) {\n    root._bokeh_onload_callbacks \u003d [];\n    root._bokeh_is_loading \u003d undefined;\n  }\n\n  \n\n  \n  if (typeof (root._bokeh_timeout) \u003d\u003d\u003d \"undefined\" || force \u003d\u003d\u003d true) {\n    root._bokeh_timeout \u003d Date.now() + 5000;\n    root._bokeh_failed_load \u003d false;\n  }\n\n  var NB_LOAD_WARNING \u003d {\u0027data\u0027: {\u0027text/html\u0027:\n     \"\u003cdiv style\u003d\u0027background-color: #fdd\u0027\u003e\\n\"+\n     \"\u003cp\u003e\\n\"+\n     \"BokehJS does not appear to have successfully loaded. If loading BokehJS from CDN, this \\n\"+\n     \"may be due to a slow or bad network connection. Possible fixes:\\n\"+\n     \"\u003c/p\u003e\\n\"+\n     \"\u003cul\u003e\\n\"+\n     \"\u003cli\u003ere-rerun `output_notebook()` to attempt to load from CDN again, or\u003c/li\u003e\\n\"+\n     \"\u003cli\u003euse INLINE resources instead, as so:\u003c/li\u003e\\n\"+\n     \"\u003c/ul\u003e\\n\"+\n     \"\u003ccode\u003e\\n\"+\n     \"from bokeh.resources import INLINE\\n\"+\n     \"output_notebook(resources\u003dINLINE)\\n\"+\n     \"\u003c/code\u003e\\n\"+\n     \"\u003c/div\u003e\"}};\n\n  function display_loaded() {\n    var el \u003d document.getElementById(\"1001\");\n    if (el !\u003d null) {\n      el.textContent \u003d \"BokehJS is loading...\";\n    }\n    if (root.Bokeh !\u003d\u003d undefined) {\n      if (el !\u003d null) {\n        el.textContent \u003d \"BokehJS \" + root.Bokeh.version + \" successfully loaded.\";\n      }\n    } else if (Date.now() \u003c root._bokeh_timeout) {\n      setTimeout(display_loaded, 100)\n    }\n  }\n\n\n  function run_callbacks() {\n    try {\n      root._bokeh_onload_callbacks.forEach(function(callback) { callback() });\n    }\n    finally {\n      delete root._bokeh_onload_callbacks\n    }\n    console.info(\"Bokeh: all callbacks have finished\");\n  }\n\n  function load_libs(js_urls, callback) {\n    root._bokeh_onload_callbacks.push(callback);\n    if (root._bokeh_is_loading \u003e 0) {\n      console.log(\"Bokeh: BokehJS is being loaded, scheduling callback at\", now());\n      return null;\n    }\n    if (js_urls \u003d\u003d null || js_urls.length \u003d\u003d\u003d 0) {\n      run_callbacks();\n      return null;\n    }\n    console.log(\"Bokeh: BokehJS not loaded, scheduling load and callback at\", now());\n    root._bokeh_is_loading \u003d js_urls.length;\n    for (var i \u003d 0; i \u003c js_urls.length; i++) {\n      var url \u003d js_urls[i];\n      var s \u003d document.createElement(\u0027script\u0027);\n      s.src \u003d url;\n      s.async \u003d false;\n      s.onreadystatechange \u003d s.onload \u003d function() {\n        root._bokeh_is_loading--;\n        if (root._bokeh_is_loading \u003d\u003d\u003d 0) {\n          console.log(\"Bokeh: all BokehJS libraries loaded\");\n          run_callbacks()\n        }\n      };\n      s.onerror \u003d function() {\n        console.warn(\"failed to load library \" + url);\n      };\n      console.log(\"Bokeh: injecting script tag for BokehJS library: \", url);\n      document.getElementsByTagName(\"head\")[0].appendChild(s);\n    }\n  };var element \u003d document.getElementById(\"1001\");\n  if (element \u003d\u003d null) {\n    console.log(\"Bokeh: ERROR: autoload.js configured with elementid \u00271001\u0027 but no matching script tag was found. \")\n    return false;\n  }\n\n  var js_urls \u003d [\"https://cdn.pydata.org/bokeh/release/bokeh-1.0.4.min.js\", \"https://cdn.pydata.org/bokeh/release/bokeh-widgets-1.0.4.min.js\", \"https://cdn.pydata.org/bokeh/release/bokeh-tables-1.0.4.min.js\", \"https://cdn.pydata.org/bokeh/release/bokeh-gl-1.0.4.min.js\"];\n\n  var inline_js \u003d [\n    function(Bokeh) {\n      Bokeh.set_log_level(\"info\");\n    },\n    \n    function(Bokeh) {\n      \n    },\n    function(Bokeh) {\n      console.log(\"Bokeh: injecting CSS: https://cdn.pydata.org/bokeh/release/bokeh-1.0.4.min.css\");\n      Bokeh.embed.inject_css(\"https://cdn.pydata.org/bokeh/release/bokeh-1.0.4.min.css\");\n      console.log(\"Bokeh: injecting CSS: https://cdn.pydata.org/bokeh/release/bokeh-widgets-1.0.4.min.css\");\n      Bokeh.embed.inject_css(\"https://cdn.pydata.org/bokeh/release/bokeh-widgets-1.0.4.min.css\");\n      console.log(\"Bokeh: injecting CSS: https://cdn.pydata.org/bokeh/release/bokeh-tables-1.0.4.min.css\");\n      Bokeh.embed.inject_css(\"https://cdn.pydata.org/bokeh/release/bokeh-tables-1.0.4.min.css\");\n    }\n  ];\n\n  function run_inline_js() {\n    \n    if ((root.Bokeh !\u003d\u003d undefined) || (force \u003d\u003d\u003d true)) {\n      for (var i \u003d 0; i \u003c inline_js.length; i++) {\n        inline_js[i].call(root, root.Bokeh);\n      }if (force \u003d\u003d\u003d true) {\n        display_loaded();\n      }} else if (Date.now() \u003c root._bokeh_timeout) {\n      setTimeout(run_inline_js, 100);\n    } else if (!root._bokeh_failed_load) {\n      console.log(\"Bokeh: BokehJS failed to load within specified timeout.\");\n      root._bokeh_failed_load \u003d true;\n    } else if (force !\u003d\u003d true) {\n      var cell \u003d $(document.getElementById(\"1001\")).parents(\u0027.cell\u0027).data().cell;\n      cell.output_area.append_execute_result(NB_LOAD_WARNING)\n    }\n\n  }\n\n  if (root._bokeh_is_loading \u003d\u003d\u003d 0) {\n    console.log(\"Bokeh: BokehJS loaded, going straight to plotting\");\n    run_inline_js();\n  } else {\n    load_libs(js_urls, function() {\n      console.log(\"Bokeh: BokehJS plotting callback run at\", now());\n      run_inline_js();\n    });\n  }\n}(window));"
          },
          "metadata": {},
          "output_type": "display_data"
        }
      ],
      "source": [
        "output_notebook()"
      ]
    },
    {
      "cell_type": "code",
      "execution_count": 13,
      "metadata": {
        "pycharm": {
          "is_executing": false
        }
      },
      "outputs": [
        {
          "data": {
            "text/plain": "GlyphRenderer(id\u003d\u00271039\u0027, ...)",
            "text/html": "\u003cdiv style\u003d\"display: table;\"\u003e\u003cdiv style\u003d\"display: table-row;\"\u003e\u003cdiv style\u003d\"display: table-cell;\"\u003e\u003cb title\u003d\"bokeh.models.renderers.GlyphRenderer\"\u003eGlyphRenderer\u003c/b\u003e(\u003c/div\u003e\u003cdiv style\u003d\"display: table-cell;\"\u003eid\u0026nbsp;\u003d\u0026nbsp;\u00271039\u0027, \u003cspan id\u003d\"1042\" style\u003d\"cursor: pointer;\"\u003e\u0026hellip;)\u003c/span\u003e\u003c/div\u003e\u003c/div\u003e\u003cdiv class\u003d\"1041\" style\u003d\"display: none;\"\u003e\u003cdiv style\u003d\"display: table-cell;\"\u003e\u003c/div\u003e\u003cdiv style\u003d\"display: table-cell;\"\u003edata_source\u0026nbsp;\u003d\u0026nbsp;ColumnDataSource(id\u003d\u00271036\u0027, ...),\u003c/div\u003e\u003c/div\u003e\u003cdiv class\u003d\"1041\" style\u003d\"display: none;\"\u003e\u003cdiv style\u003d\"display: table-cell;\"\u003e\u003c/div\u003e\u003cdiv style\u003d\"display: table-cell;\"\u003eglyph\u0026nbsp;\u003d\u0026nbsp;Line(id\u003d\u00271037\u0027, ...),\u003c/div\u003e\u003c/div\u003e\u003cdiv class\u003d\"1041\" style\u003d\"display: none;\"\u003e\u003cdiv style\u003d\"display: table-cell;\"\u003e\u003c/div\u003e\u003cdiv style\u003d\"display: table-cell;\"\u003ehover_glyph\u0026nbsp;\u003d\u0026nbsp;None,\u003c/div\u003e\u003c/div\u003e\u003cdiv class\u003d\"1041\" style\u003d\"display: none;\"\u003e\u003cdiv style\u003d\"display: table-cell;\"\u003e\u003c/div\u003e\u003cdiv style\u003d\"display: table-cell;\"\u003ejs_event_callbacks\u0026nbsp;\u003d\u0026nbsp;{},\u003c/div\u003e\u003c/div\u003e\u003cdiv class\u003d\"1041\" style\u003d\"display: none;\"\u003e\u003cdiv style\u003d\"display: table-cell;\"\u003e\u003c/div\u003e\u003cdiv style\u003d\"display: table-cell;\"\u003ejs_property_callbacks\u0026nbsp;\u003d\u0026nbsp;{},\u003c/div\u003e\u003c/div\u003e\u003cdiv class\u003d\"1041\" style\u003d\"display: none;\"\u003e\u003cdiv style\u003d\"display: table-cell;\"\u003e\u003c/div\u003e\u003cdiv style\u003d\"display: table-cell;\"\u003elevel\u0026nbsp;\u003d\u0026nbsp;\u0027glyph\u0027,\u003c/div\u003e\u003c/div\u003e\u003cdiv class\u003d\"1041\" style\u003d\"display: none;\"\u003e\u003cdiv style\u003d\"display: table-cell;\"\u003e\u003c/div\u003e\u003cdiv style\u003d\"display: table-cell;\"\u003emuted\u0026nbsp;\u003d\u0026nbsp;False,\u003c/div\u003e\u003c/div\u003e\u003cdiv class\u003d\"1041\" style\u003d\"display: none;\"\u003e\u003cdiv style\u003d\"display: table-cell;\"\u003e\u003c/div\u003e\u003cdiv style\u003d\"display: table-cell;\"\u003emuted_glyph\u0026nbsp;\u003d\u0026nbsp;None,\u003c/div\u003e\u003c/div\u003e\u003cdiv class\u003d\"1041\" style\u003d\"display: none;\"\u003e\u003cdiv style\u003d\"display: table-cell;\"\u003e\u003c/div\u003e\u003cdiv style\u003d\"display: table-cell;\"\u003ename\u0026nbsp;\u003d\u0026nbsp;None,\u003c/div\u003e\u003c/div\u003e\u003cdiv class\u003d\"1041\" style\u003d\"display: none;\"\u003e\u003cdiv style\u003d\"display: table-cell;\"\u003e\u003c/div\u003e\u003cdiv style\u003d\"display: table-cell;\"\u003enonselection_glyph\u0026nbsp;\u003d\u0026nbsp;Line(id\u003d\u00271038\u0027, ...),\u003c/div\u003e\u003c/div\u003e\u003cdiv class\u003d\"1041\" style\u003d\"display: none;\"\u003e\u003cdiv style\u003d\"display: table-cell;\"\u003e\u003c/div\u003e\u003cdiv style\u003d\"display: table-cell;\"\u003eselection_glyph\u0026nbsp;\u003d\u0026nbsp;None,\u003c/div\u003e\u003c/div\u003e\u003cdiv class\u003d\"1041\" style\u003d\"display: none;\"\u003e\u003cdiv style\u003d\"display: table-cell;\"\u003e\u003c/div\u003e\u003cdiv style\u003d\"display: table-cell;\"\u003esubscribed_events\u0026nbsp;\u003d\u0026nbsp;[],\u003c/div\u003e\u003c/div\u003e\u003cdiv class\u003d\"1041\" style\u003d\"display: none;\"\u003e\u003cdiv style\u003d\"display: table-cell;\"\u003e\u003c/div\u003e\u003cdiv style\u003d\"display: table-cell;\"\u003etags\u0026nbsp;\u003d\u0026nbsp;[],\u003c/div\u003e\u003c/div\u003e\u003cdiv class\u003d\"1041\" style\u003d\"display: none;\"\u003e\u003cdiv style\u003d\"display: table-cell;\"\u003e\u003c/div\u003e\u003cdiv style\u003d\"display: table-cell;\"\u003eview\u0026nbsp;\u003d\u0026nbsp;CDSView(id\u003d\u00271040\u0027, ...),\u003c/div\u003e\u003c/div\u003e\u003cdiv class\u003d\"1041\" style\u003d\"display: none;\"\u003e\u003cdiv style\u003d\"display: table-cell;\"\u003e\u003c/div\u003e\u003cdiv style\u003d\"display: table-cell;\"\u003evisible\u0026nbsp;\u003d\u0026nbsp;True,\u003c/div\u003e\u003c/div\u003e\u003cdiv class\u003d\"1041\" style\u003d\"display: none;\"\u003e\u003cdiv style\u003d\"display: table-cell;\"\u003e\u003c/div\u003e\u003cdiv style\u003d\"display: table-cell;\"\u003ex_range_name\u0026nbsp;\u003d\u0026nbsp;\u0027default\u0027,\u003c/div\u003e\u003c/div\u003e\u003cdiv class\u003d\"1041\" style\u003d\"display: none;\"\u003e\u003cdiv style\u003d\"display: table-cell;\"\u003e\u003c/div\u003e\u003cdiv style\u003d\"display: table-cell;\"\u003ey_range_name\u0026nbsp;\u003d\u0026nbsp;\u0027default\u0027)\u003c/div\u003e\u003c/div\u003e\u003c/div\u003e\n\u003cscript\u003e\n(function() {\n  var expanded \u003d false;\n  var ellipsis \u003d document.getElementById(\"1042\");\n  ellipsis.addEventListener(\"click\", function() {\n    var rows \u003d document.getElementsByClassName(\"1041\");\n    for (var i \u003d 0; i \u003c rows.length; i++) {\n      var el \u003d rows[i];\n      el.style.display \u003d expanded ? \"none\" : \"table-row\";\n    }\n    ellipsis.innerHTML \u003d expanded ? \"\u0026hellip;)\" : \"\u0026lsaquo;\u0026lsaquo;\u0026lsaquo;\";\n    expanded \u003d !expanded;\n  });\n})();\n\u003c/script\u003e\n"
          },
          "metadata": {},
          "output_type": "execute_result",
          "execution_count": 13
        }
      ],
      "source": [
        "p \u003d figure()\n",
        "p.line(range(50), forecast)"
      ]
    },
    {
      "cell_type": "code",
      "execution_count": 14,
      "metadata": {
        "pycharm": {
          "is_executing": false
        }
      },
      "outputs": [
        {
          "data": {
            "text/html": "\n\n\n\n\n\n  \u003cdiv class\u003d\"bk-root\" id\u003d\"b7365e9d-5c21-4a57-9623-a247bc0df117\" data-root-id\u003d\"1002\"\u003e\u003c/div\u003e\n"
          },
          "metadata": {},
          "output_type": "display_data"
        },
        {
          "data": {
            "application/javascript": "(function(root) {\n  function embed_document(root) {\n    \n  var docs_json \u003d {\"fa9fe5ea-273f-41b3-ae8b-46b962e1ce65\":{\"roots\":{\"references\":[{\"attributes\":{\"below\":[{\"id\":\"1011\",\"type\":\"LinearAxis\"}],\"left\":[{\"id\":\"1016\",\"type\":\"LinearAxis\"}],\"renderers\":[{\"id\":\"1011\",\"type\":\"LinearAxis\"},{\"id\":\"1015\",\"type\":\"Grid\"},{\"id\":\"1016\",\"type\":\"LinearAxis\"},{\"id\":\"1020\",\"type\":\"Grid\"},{\"id\":\"1029\",\"type\":\"BoxAnnotation\"},{\"id\":\"1039\",\"type\":\"GlyphRenderer\"}],\"title\":{\"id\":\"1043\",\"type\":\"Title\"},\"toolbar\":{\"id\":\"1027\",\"type\":\"Toolbar\"},\"x_range\":{\"id\":\"1003\",\"type\":\"DataRange1d\"},\"x_scale\":{\"id\":\"1007\",\"type\":\"LinearScale\"},\"y_range\":{\"id\":\"1005\",\"type\":\"DataRange1d\"},\"y_scale\":{\"id\":\"1009\",\"type\":\"LinearScale\"}},\"id\":\"1002\",\"subtype\":\"Figure\",\"type\":\"Plot\"},{\"attributes\":{},\"id\":\"1048\",\"type\":\"BasicTickFormatter\"},{\"attributes\":{},\"id\":\"1021\",\"type\":\"PanTool\"},{\"attributes\":{},\"id\":\"1050\",\"type\":\"UnionRenderers\"},{\"attributes\":{},\"id\":\"1022\",\"type\":\"WheelZoomTool\"},{\"attributes\":{\"data_source\":{\"id\":\"1036\",\"type\":\"ColumnDataSource\"},\"glyph\":{\"id\":\"1037\",\"type\":\"Line\"},\"hover_glyph\":null,\"muted_glyph\":null,\"nonselection_glyph\":{\"id\":\"1038\",\"type\":\"Line\"},\"selection_glyph\":null,\"view\":{\"id\":\"1040\",\"type\":\"CDSView\"}},\"id\":\"1039\",\"type\":\"GlyphRenderer\"},{\"attributes\":{\"overlay\":{\"id\":\"1029\",\"type\":\"BoxAnnotation\"}},\"id\":\"1023\",\"type\":\"BoxZoomTool\"},{\"attributes\":{},\"id\":\"1051\",\"type\":\"Selection\"},{\"attributes\":{},\"id\":\"1025\",\"type\":\"ResetTool\"},{\"attributes\":{\"line_color\":\"#1f77b4\",\"x\":{\"field\":\"x\"},\"y\":{\"field\":\"y\"}},\"id\":\"1037\",\"type\":\"Line\"},{\"attributes\":{\"callback\":null,\"data\":{\"x\":[0,1,2,3,4,5,6,7,8,9,10,11,12,13,14,15,16,17,18,19,20,21,22,23,24,25,26,27,28,29,30,31,32,33,34,35,36,37,38,39,40,41,42,43,44,45,46,47,48,49],\"y\":{\"__ndarray__\":\"D9Q54pZ+7D9A3/RWbprsP/Uic0Zctew/VCGd/WLP7D9ZXfvYhOjsP+jaXUjEAO0/sY33yCMY7T8dBe/ipS7tPxajAylNRO0/7oJdNxxZ7T9xw82yFW3tP5/gSUg8gO0/9YVkrJKS7T/kgS2UG6TtP9vRULjZtO0/Yytw1s/E7T9d7hCvANTtP/2MegJv4u0/o4RqkR3w7T9J5Y4dD/3tP87+ZWhGCe4/T0XbMcYU7j9JS0I4kR/uP28XdDiqKe4/paI77RMz7j+3DnIO0TvuPx6s7VDkQ+4/SfyrZlBL7j/vkHT+F1LuPx2LPMM9WO4/jYgbXMRd7j/QuotsrmLuP/7dLpT+Zu4/rkFfbrdq7j9Ja0aS223uP+V0PJNtcO4/gA6nAHBy7j+jhRFm5XPuP7nSfUrQdO4/1Pm1MDN17j/wow2YEHXuP9/YLPxqdO4/cdg71URz7j9nHrWXoHHuP/9otbSAb+4/7AZ7muds7j+513q012nuP0yXo2tTZu4/FkNSJl1i7j8XD7hI913uPw\u003d\u003d\",\"dtype\":\"float64\",\"shape\":[50]}},\"selected\":{\"id\":\"1051\",\"type\":\"Selection\"},\"selection_policy\":{\"id\":\"1050\",\"type\":\"UnionRenderers\"}},\"id\":\"1036\",\"type\":\"ColumnDataSource\"},{\"attributes\":{\"plot\":null,\"text\":\"\"},\"id\":\"1043\",\"type\":\"Title\"},{\"attributes\":{\"callback\":null},\"id\":\"1003\",\"type\":\"DataRange1d\"},{\"attributes\":{},\"id\":\"1007\",\"type\":\"LinearScale\"},{\"attributes\":{},\"id\":\"1026\",\"type\":\"HelpTool\"},{\"attributes\":{},\"id\":\"1009\",\"type\":\"LinearScale\"},{\"attributes\":{\"callback\":null},\"id\":\"1005\",\"type\":\"DataRange1d\"},{\"attributes\":{\"formatter\":{\"id\":\"1046\",\"type\":\"BasicTickFormatter\"},\"plot\":{\"id\":\"1002\",\"subtype\":\"Figure\",\"type\":\"Plot\"},\"ticker\":{\"id\":\"1012\",\"type\":\"BasicTicker\"}},\"id\":\"1011\",\"type\":\"LinearAxis\"},{\"attributes\":{\"bottom_units\":\"screen\",\"fill_alpha\":{\"value\":0.5},\"fill_color\":{\"value\":\"lightgrey\"},\"left_units\":\"screen\",\"level\":\"overlay\",\"line_alpha\":{\"value\":1.0},\"line_color\":{\"value\":\"black\"},\"line_dash\":[4,4],\"line_width\":{\"value\":2},\"plot\":null,\"render_mode\":\"css\",\"right_units\":\"screen\",\"top_units\":\"screen\"},\"id\":\"1029\",\"type\":\"BoxAnnotation\"},{\"attributes\":{},\"id\":\"1012\",\"type\":\"BasicTicker\"},{\"attributes\":{\"plot\":{\"id\":\"1002\",\"subtype\":\"Figure\",\"type\":\"Plot\"},\"ticker\":{\"id\":\"1012\",\"type\":\"BasicTicker\"}},\"id\":\"1015\",\"type\":\"Grid\"},{\"attributes\":{\"source\":{\"id\":\"1036\",\"type\":\"ColumnDataSource\"}},\"id\":\"1040\",\"type\":\"CDSView\"},{\"attributes\":{},\"id\":\"1017\",\"type\":\"BasicTicker\"},{\"attributes\":{\"formatter\":{\"id\":\"1048\",\"type\":\"BasicTickFormatter\"},\"plot\":{\"id\":\"1002\",\"subtype\":\"Figure\",\"type\":\"Plot\"},\"ticker\":{\"id\":\"1017\",\"type\":\"BasicTicker\"}},\"id\":\"1016\",\"type\":\"LinearAxis\"},{\"attributes\":{\"dimension\":1,\"plot\":{\"id\":\"1002\",\"subtype\":\"Figure\",\"type\":\"Plot\"},\"ticker\":{\"id\":\"1017\",\"type\":\"BasicTicker\"}},\"id\":\"1020\",\"type\":\"Grid\"},{\"attributes\":{},\"id\":\"1024\",\"type\":\"SaveTool\"},{\"attributes\":{},\"id\":\"1046\",\"type\":\"BasicTickFormatter\"},{\"attributes\":{\"active_drag\":\"auto\",\"active_inspect\":\"auto\",\"active_multi\":null,\"active_scroll\":\"auto\",\"active_tap\":\"auto\",\"tools\":[{\"id\":\"1021\",\"type\":\"PanTool\"},{\"id\":\"1022\",\"type\":\"WheelZoomTool\"},{\"id\":\"1023\",\"type\":\"BoxZoomTool\"},{\"id\":\"1024\",\"type\":\"SaveTool\"},{\"id\":\"1025\",\"type\":\"ResetTool\"},{\"id\":\"1026\",\"type\":\"HelpTool\"}]},\"id\":\"1027\",\"type\":\"Toolbar\"},{\"attributes\":{\"line_alpha\":0.1,\"line_color\":\"#1f77b4\",\"x\":{\"field\":\"x\"},\"y\":{\"field\":\"y\"}},\"id\":\"1038\",\"type\":\"Line\"}],\"root_ids\":[\"1002\"]},\"title\":\"Bokeh Application\",\"version\":\"1.0.4\"}};\n  var render_items \u003d [{\"docid\":\"fa9fe5ea-273f-41b3-ae8b-46b962e1ce65\",\"roots\":{\"1002\":\"b7365e9d-5c21-4a57-9623-a247bc0df117\"}}];\n  root.Bokeh.embed.embed_items_notebook(docs_json, render_items);\n\n  }\n  if (root.Bokeh !\u003d\u003d undefined) {\n    embed_document(root);\n  } else {\n    var attempts \u003d 0;\n    var timer \u003d setInterval(function(root) {\n      if (root.Bokeh !\u003d\u003d undefined) {\n        embed_document(root);\n        clearInterval(timer);\n      }\n      attempts++;\n      if (attempts \u003e 100) {\n        console.log(\"Bokeh: ERROR: Unable to run BokehJS code because BokehJS library is missing\");\n        clearInterval(timer);\n      }\n    }, 10, root)\n  }\n})(window);",
            "application/vnd.bokehjs_exec.v0+json": ""
          },
          "metadata": {
            "application/vnd.bokehjs_exec.v0+json": {
              "id": "1002"
            }
          },
          "output_type": "display_data"
        }
      ],
      "source": [
        "show(p)"
      ]
    },
    {
      "cell_type": "code",
      "execution_count": null,
      "metadata": {
        "pycharm": {}
      },
      "outputs": [],
      "source": []
    }
  ],
  "metadata": {
    "kernelspec": {
      "name": "python3",
      "language": "python",
      "display_name": "Python 3"
    },
    "language_info": {
      "codemirror_mode": {
        "name": "ipython",
        "version": 2
      },
      "file_extension": ".py",
      "mimetype": "text/x-python",
      "name": "python",
      "nbconvert_exporter": "python",
      "pygments_lexer": "ipython2",
      "version": "2.7.6"
    }
  },
  "nbformat": 4,
  "nbformat_minor": 0
}