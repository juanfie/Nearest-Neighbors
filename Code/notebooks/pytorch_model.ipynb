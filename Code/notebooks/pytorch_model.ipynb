{
  "cells": [
    {
      "cell_type": "code",
      "execution_count": 1,
      "metadata": {
        "collapsed": true,
        "pycharm": {
          "is_executing": false
        }
      },
      "outputs": [
        {
          "name": "stdout",
          "text": [
            "Is CUDA available? %s. False\n"
          ],
          "output_type": "stream"
        }
      ],
      "source": "import torch\nfrom torch import nn\nfrom torch.autograd import Variable\nfrom torch import optim\nimport torch.nn.functional as F\n\nimport matplotlib\n# matplotlib.use(\u0027Agg\u0027)\n%matplotlib inline\n\nimport datetime as dt, itertools, pandas as pd, matplotlib.pyplot as plt, numpy as np\n\nuse_cuda \u003d torch.cuda.is_available()\nprint(\"Is CUDA available? %s.\", use_cuda)"
    },
    {
      "cell_type": "code",
      "execution_count": 2,
      "outputs": [],
      "source": "class encoder(nn.Module):\n    def __init__(self, input_size, hidden_size, T, logger):\n        # input size: number of underlying factors (81)\n        # T: number of time steps (10)\n        # hidden_size: dimension of the hidden state\n        super(encoder, self).__init__()\n        self.input_size \u003d input_size\n        self.hidden_size \u003d hidden_size\n        self.T \u003d T\n\n        self.logger \u003d logger\n\n        self.lstm_layer \u003d nn.LSTM(input_size \u003d input_size, hidden_size \u003d hidden_size, num_layers \u003d 1)\n        self.attn_linear \u003d nn.Linear(in_features \u003d 2 * hidden_size + T - 1, out_features \u003d 1)\n\n    def forward(self, input_data):\n        # input_data: batch_size * T - 1 * input_size        \n        input_weighted \u003d Variable(input_data.data.new(input_data.size(0), self.T - 1, self.input_size).zero_())\n        input_encoded \u003d Variable(input_data.data.new(input_data.size(0), self.T - 1, self.hidden_size).zero_())\n        # hidden, cell: initial states with dimention hidden_size\n        hidden \u003d self.init_hidden(input_data) # 1 * batch_size * hidden_size\n        cell \u003d self.init_hidden(input_data)\n        # hidden.requires_grad \u003d False\n        # cell.requires_grad \u003d False\n        for t in range(self.T - 1):\n            # Eqn. 8: concatenate the hidden states with each predictor\n            x \u003d torch.cat((hidden.repeat(self.input_size, 1, 1).permute(1, 0, 2),\n                           cell.repeat(self.input_size, 1, 1).permute(1, 0, 2),\n                           input_data.permute(0, 2, 1)), dim \u003d 2) # batch_size * input_size * (2*hidden_size + T - 1)\n            # Eqn. 9: Get attention weights\n            x \u003d self.attn_linear(x.view(-1, self.hidden_size * 2 + self.T - 1)) # (batch_size * input_size) * 1\n            attn_weights \u003d F.softmax(x.view(-1, self.input_size)) # batch_size * input_size, attn weights with values sum up to 1.\n            # Eqn. 10: LSTM\n            weighted_input \u003d torch.mul(attn_weights, input_data[:, t, :]) # batch_size * input_size\n            # Fix the warning about non-contiguous memory\n            # see https://discuss.pytorch.org/t/dataparallel-issue-with-flatten-parameter/8282\n            self.lstm_layer.flatten_parameters()\n            _, lstm_states \u003d self.lstm_layer(weighted_input.unsqueeze(0), (hidden, cell))\n            hidden \u003d lstm_states[0]\n            cell \u003d lstm_states[1]\n            # Save output\n            input_weighted[:, t, :] \u003d weighted_input\n            input_encoded[:, t, :] \u003d hidden\n        return input_weighted, input_encoded\n\n    def init_hidden(self, x):\n        # No matter whether CUDA is used, the returned variable will have the same type as x.\n        return Variable(x.data.new(1, x.size(0), self.hidden_size).zero_()) # dimension 0 is the batch dimension\n\nclass decoder(nn.Module):\n    def __init__(self, encoder_hidden_size, decoder_hidden_size, T, logger):\n        super(decoder, self).__init__()\n\n        self.T \u003d T\n        self.encoder_hidden_size \u003d encoder_hidden_size\n        self.decoder_hidden_size \u003d decoder_hidden_size\n\n        self.logger \u003d logger\n\n        self.attn_layer \u003d nn.Sequential(nn.Linear(2 * decoder_hidden_size + encoder_hidden_size, encoder_hidden_size),\n                                         nn.Tanh(), nn.Linear(encoder_hidden_size, 1))\n        self.lstm_layer \u003d nn.LSTM(input_size \u003d 1, hidden_size \u003d decoder_hidden_size)\n        self.fc \u003d nn.Linear(encoder_hidden_size + 1, 1)\n        self.fc_final \u003d nn.Linear(decoder_hidden_size + encoder_hidden_size, 1)\n\n        self.fc.weight.data.normal_()\n\n    def forward(self, input_encoded, y_history):\n        # input_encoded: batch_size * T - 1 * encoder_hidden_size\n        # y_history: batch_size * (T-1)\n        # Initialize hidden and cell, 1 * batch_size * decoder_hidden_size\n        hidden \u003d self.init_hidden(input_encoded)\n        cell \u003d self.init_hidden(input_encoded)\n        # hidden.requires_grad \u003d False\n        # cell.requires_grad \u003d False\n        for t in range(self.T - 1):\n            # Eqn. 12-13: compute attention weights\n            ## batch_size * T * (2*decoder_hidden_size + encoder_hidden_size)\n            x \u003d torch.cat((hidden.repeat(self.T - 1, 1, 1).permute(1, 0, 2),\n                           cell.repeat(self.T - 1, 1, 1).permute(1, 0, 2), input_encoded), dim \u003d 2)\n            x \u003d F.softmax(self.attn_layer(x.view(-1, 2 * self.decoder_hidden_size + self.encoder_hidden_size\n                                                )).view(-1, self.T - 1)) # batch_size * T - 1, row sum up to 1\n            # Eqn. 14: compute context vector\n            context \u003d torch.bmm(x.unsqueeze(1), input_encoded)[:, 0, :] # batch_size * encoder_hidden_size\n            if t \u003c self.T - 1:\n                # Eqn. 15\n                y_tilde \u003d self.fc(torch.cat((context, y_history[:, t].unsqueeze(1)), dim \u003d 1)) # batch_size * 1\n                # Eqn. 16: LSTM\n                self.lstm_layer.flatten_parameters()\n                _, lstm_output \u003d self.lstm_layer(y_tilde.unsqueeze(0), (hidden, cell))\n                hidden \u003d lstm_output[0] # 1 * batch_size * decoder_hidden_size\n                cell \u003d lstm_output[1] # 1 * batch_size * decoder_hidden_size\n        # Eqn. 22: final output\n        y_pred \u003d self.fc_final(torch.cat((hidden[0], context), dim \u003d 1))\n        # self.logger.info(\"hidden %s context %s y_pred: %s\", hidden[0][0][:10], context[0][:10], y_pred[:10])\n        return y_pred\n\n    def init_hidden(self, x):\n        return Variable(x.data.new(1, x.size(0), self.decoder_hidden_size).zero_())",
      "metadata": {
        "pycharm": {
          "metadata": false,
          "name": "#%%\n",
          "is_executing": false
        }
      }
    },
    {
      "cell_type": "code",
      "execution_count": 4,
      "outputs": [],
      "source": "# Train the model\nclass da_rnn:\n    def __init__(self, file_data, encoder_hidden_size \u003d 64, decoder_hidden_size \u003d 64, T \u003d 10,\n                 learning_rate \u003d 0.01, batch_size \u003d 128, parallel \u003d True, debug \u003d False):\n        self.T \u003d T\n        dat \u003d pd.read_csv(file_data, nrows \u003d 100 if debug else None)\n        \n        self.X \u003d dat.loc[:, [x for x in dat.columns.tolist() if x !\u003d \u0027NDX\u0027]].as_matrix()\n        self.y \u003d np.array(dat.NDX)\n        self.batch_size \u003d batch_size\n\n        self.encoder \u003d encoder(input_size \u003d self.X.shape[1], hidden_size \u003d encoder_hidden_size, T \u003d T).cuda()\n        self.decoder \u003d decoder(encoder_hidden_size \u003d encoder_hidden_size,\n                               decoder_hidden_size \u003d decoder_hidden_size,\n                               T \u003d T).cuda()\n\n        if parallel:\n            self.encoder \u003d nn.DataParallel(self.encoder)\n            self.decoder \u003d nn.DataParallel(self.decoder)\n\n        self.encoder_optimizer \u003d optim.Adam(params \u003d itertools.ifilter(lambda p: p.requires_grad, self.encoder.parameters()),\n                                           lr \u003d learning_rate)\n        self.decoder_optimizer \u003d optim.Adam(params \u003d itertools.ifilter(lambda p: p.requires_grad, self.decoder.parameters()),\n                                           lr \u003d learning_rate)\n        # self.learning_rate \u003d learning_rate\n\n        self.train_size \u003d int(self.X.shape[0] * 0.7)\n        self.y \u003d self.y - np.mean(self.y[:self.train_size]) # Question: why Adam requires data to be normalized?\n        \n\n    def train(self, n_epochs \u003d 10):\n        iter_per_epoch \u003d int(np.ceil(self.train_size * 1. / self.batch_size))\n        \n        self.iter_losses \u003d np.zeros(n_epochs * iter_per_epoch)\n        self.epoch_losses \u003d np.zeros(n_epochs)\n\n        self.loss_func \u003d nn.MSELoss()\n\n        n_iter \u003d 0\n\n        learning_rate \u003d 1.\n\n        for i in range(n_epochs):\n            perm_idx \u003d np.random.permutation(self.train_size - self.T)\n            j \u003d 0\n            while j \u003c self.train_size:\n                batch_idx \u003d perm_idx[j:(j + self.batch_size)]\n                X \u003d np.zeros((len(batch_idx), self.T - 1, self.X.shape[1]))\n                y_history \u003d np.zeros((len(batch_idx), self.T - 1))\n                y_target \u003d self.y[batch_idx + self.T]\n\n                for k in range(len(batch_idx)):\n                    X[k, :, :] \u003d self.X[batch_idx[k] : (batch_idx[k] + self.T - 1), :]\n                    y_history[k, :] \u003d self.y[batch_idx[k] : (batch_idx[k] + self.T - 1)]\n\n                loss \u003d self.train_iteration(X, y_history, y_target)\n                self.iter_losses[i * iter_per_epoch + j / self.batch_size] \u003d loss\n                #if (j / self.batch_size) % 50 \u003d\u003d 0:\n                #    self.logger.info(\"Epoch %d, Batch %d: loss \u003d %3.3f.\", i, j / self.batch_size, loss)\n                j +\u003d self.batch_size\n                n_iter +\u003d 1\n\n                if n_iter % 10000 \u003d\u003d 0 and n_iter \u003e 0:\n                    for param_group in self.encoder_optimizer.param_groups:\n                        param_group[\u0027lr\u0027] \u003d param_group[\u0027lr\u0027] * 0.9\n                    for param_group in self.decoder_optimizer.param_groups:\n                        param_group[\u0027lr\u0027] \u003d param_group[\u0027lr\u0027] * 0.9\n\n            self.epoch_losses[i] \u003d np.mean(self.iter_losses[range(i * iter_per_epoch, (i + 1) * iter_per_epoch)])\n            if i % 10 \u003d\u003d 0:\n                print(\"Epoch {}, loss: {}\".format(i, self.epoch_losses[i]))\n\n            if i % 10 \u003d\u003d 0:\n                y_train_pred \u003d self.predict(on_train \u003d True)\n                y_test_pred \u003d self.predict(on_train \u003d False)\n                y_pred \u003d np.concatenate((y_train_pred, y_test_pred))\n                plt.figure()\n                plt.plot(range(1, 1 + len(self.y)), self.y, label \u003d \"True\")\n                plt.plot(range(self.T , len(y_train_pred) + self.T), y_train_pred, label \u003d \u0027Predicted - Train\u0027)\n                plt.plot(range(self.T + len(y_train_pred) , len(self.y) + 1), y_test_pred, label \u003d \u0027Predicted - Test\u0027)\n                plt.legend(loc \u003d \u0027upper left\u0027)\n                plt.show()\n\n    def train_iteration(self, X, y_history, y_target):\n        self.encoder_optimizer.zero_grad()\n        self.decoder_optimizer.zero_grad()\n\n        input_weighted, input_encoded \u003d self.encoder(Variable(torch.from_numpy(X).type(torch.FloatTensor).cuda()))\n        y_pred \u003d self.decoder(input_encoded, Variable(torch.from_numpy(y_history).type(torch.FloatTensor).cuda()))\n\n        y_true \u003d Variable(torch.from_numpy(y_target).type(torch.FloatTensor).cuda())\n        loss \u003d self.loss_func(y_pred, y_true)\n        loss.backward()\n\n        self.encoder_optimizer.step()\n        self.decoder_optimizer.step()\n\n        return loss.data[0]\n\n    def predict(self, on_train \u003d False):\n        if on_train:\n            y_pred \u003d np.zeros(self.train_size - self.T + 1)\n        else:\n            y_pred \u003d np.zeros(self.X.shape[0] - self.train_size)\n\n        i \u003d 0\n        while i \u003c len(y_pred):\n            batch_idx \u003d np.array(range(len(y_pred)))[i : (i + self.batch_size)]\n            X \u003d np.zeros((len(batch_idx), self.T - 1, self.X.shape[1]))\n            y_history \u003d np.zeros((len(batch_idx), self.T - 1))\n            for j in range(len(batch_idx)):\n                if on_train:\n                    X[j, :, :] \u003d self.X[range(batch_idx[j], batch_idx[j] + self.T - 1), :]\n                    y_history[j, :] \u003d self.y[range(batch_idx[j],  batch_idx[j]+ self.T - 1)]\n                else:\n                    X[j, :, :] \u003d self.X[range(batch_idx[j] + self.train_size - self.T, batch_idx[j] + self.train_size - 1), :]\n                    y_history[j, :] \u003d self.y[range(batch_idx[j] + self.train_size - self.T,  batch_idx[j]+ self.train_size - 1)]\n\n            y_history \u003d Variable(torch.from_numpy(y_history).type(torch.FloatTensor).cuda())\n            _, input_encoded \u003d self.encoder(Variable(torch.from_numpy(X).type(torch.FloatTensor).cuda()))\n            y_pred[i:(i + self.batch_size)] \u003d self.decoder(input_encoded, y_history).cpu().data.numpy()[:, 0]\n            i +\u003d self.batch_size\n        return y_pred",
      "metadata": {
        "pycharm": {
          "metadata": false,
          "name": "#%%\n",
          "is_executing": false
        }
      }
    },
    {
      "cell_type": "code",
      "execution_count": null,
      "outputs": [],
      "source": "model \u003d da_rnn(file_data \u003d \u0027{}/data/nasdaq100_padding.csv\u0027, parallel \u003d False,\n              learning_rate \u003d .001)\n\nmodel.train(n_epochs \u003d 500)\n\ny_pred \u003d model.predict()\n\nplt.figure()\nplt.semilogy(range(len(model.iter_losses)), model.iter_losses)\nplt.show()\n\nplt.figure()\nplt.semilogy(range(len(model.epoch_losses)), model.epoch_losses)\nplt.show()\n\nplt.figure()\nplt.plot(y_pred, label \u003d \u0027Predicted\u0027)\nplt.plot(model.y[model.train_size:], label \u003d \"True\")\nplt.legend(loc \u003d \u0027upper left\u0027)\nplt.show()\n",
      "metadata": {
        "pycharm": {
          "metadata": false,
          "name": "#%%\n"
        }
      }
    }
  ],
  "metadata": {
    "language_info": {
      "codemirror_mode": {
        "name": "ipython",
        "version": 2
      },
      "file_extension": ".py",
      "mimetype": "text/x-python",
      "name": "python",
      "nbconvert_exporter": "python",
      "pygments_lexer": "ipython2",
      "version": "2.7.6"
    },
    "kernelspec": {
      "name": "python3",
      "language": "python",
      "display_name": "Python 3"
    }
  },
  "nbformat": 4,
  "nbformat_minor": 0
}